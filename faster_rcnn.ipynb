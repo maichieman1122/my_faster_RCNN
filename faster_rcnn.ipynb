{
 "cells": [
  {
   "cell_type": "code",
   "execution_count": 1,
   "id": "b0e1e809",
   "metadata": {},
   "outputs": [],
   "source": [
    "from __future__ import  absolute_import\n",
    "from __future__ import division\n",
    "import torch as t\n",
    "import numpy as np\n",
    "from our_utils import array_tool as at\n",
    "from model.utils.bbox_tools import loc2bbox\n",
    "from torchvision.ops import nms\n",
    "# from model.utils.nms import non_maximum_suppression\n",
    "\n",
    "from torch import nn\n",
    "from data.dataset import preprocess\n",
    "from torch.nn import functional as F\n",
    "from our_utils.config import opt\n",
    "\n",
    "def nograd(f):\n",
    "    def new_f(*args,**kwargs):\n",
    "        with t.no_grad():\n",
    "            return f(*args,**kwargs)\n",
    "    return new_f\n",
    "\n",
    "class FasterRCNN(nn.Module):\n",
    "    def __init__(self, extractor, rpn, head, \n",
    "                loc_normalize_mean = (0., 0., 0., 0.),\n",
    "                loc_normalize_std = (0.1, 0.1, 0.2, 0.2)):\n",
    "        super(FasterRCNN,self).__init__()\n",
    "        self.extractor=extractor\n",
    "        self.rpn=rpn\n",
    "        self.head=head\n",
    "        self.loc_normalize_mean=loc_normalize_mean\n",
    "        self.loc_normalize_std=loc_normalize_std\n",
    "        self.use_preset('evaluate')\n",
    "        \n",
    "    def use_preset(self, preset):\n",
    "        \"\"\"Use the given preset during prediction.\n",
    "        This method changes values of :obj:`self.nms_thresh` and\n",
    "        :obj:`self.score_thresh`. These values are a threshold value\n",
    "        used for non maximum suppression and a threshold value\n",
    "        to discard low confidence proposals in :meth:`predict`,\n",
    "        respectively.\n",
    "        If the attributes need to be changed to something\n",
    "        other than the values provided in the presets, please modify\n",
    "        them by directly accessing the public attributes.\n",
    "        Args:\n",
    "            preset ({'visualize', 'evaluate'): A string to determine the\n",
    "                preset to use.\n",
    "        \"\"\"\n",
    "        if preset == 'visualize':\n",
    "            self.nms_thresh = 0.3\n",
    "            self.score_thresh = 0.7\n",
    "        elif preset == 'evaluate':\n",
    "            self.nms_thresh = 0.3\n",
    "            self.score_thresh = 0.05\n",
    "        else:\n",
    "            raise ValueError('preset must be visualize or evaluate')\n",
    "        "
   ]
  }
 ],
 "metadata": {
  "kernelspec": {
   "display_name": "Python 3",
   "language": "python",
   "name": "python3"
  },
  "language_info": {
   "codemirror_mode": {
    "name": "ipython",
    "version": 3
   },
   "file_extension": ".py",
   "mimetype": "text/x-python",
   "name": "python",
   "nbconvert_exporter": "python",
   "pygments_lexer": "ipython3",
   "version": "3.7.1"
  }
 },
 "nbformat": 4,
 "nbformat_minor": 5
}
