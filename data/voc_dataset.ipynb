{
 "cells": [
  {
   "cell_type": "code",
   "execution_count": 17,
   "id": "eca2a47a",
   "metadata": {},
   "outputs": [],
   "source": [
    "import os\n",
    "import xml.etree.ElementTree as ET\n",
    "from util import read_image\n",
    "import numpy as np\n",
    "\n",
    "\n",
    "class VOCBboxDataset:\n",
    "    def __init__(self,data_dir, split='trainval', use_difficult=False, return_difficult=False,):\n",
    "        # data_dir: F:/tot_nghiep/dataset/data\n",
    "        img_files=os.listdir(os.path.join(data_dir, split, 'image_data'))\n",
    "        ids=[]\n",
    "        for i in img_files:\n",
    "            ids.append(i.replace('.JPG',''))\n",
    "        self.ids=ids\n",
    "        self.data_dir = data_dir\n",
    "        self.use_difficult = use_difficult\n",
    "        self.return_difficult = return_difficult\n",
    "        self.label_names = VOC_BBOX_LABEL_NAMES\n",
    "        self.split=split\n",
    "        \n",
    "    def __len__(self):\n",
    "        return len(self.ids)\n",
    "    \n",
    "    def __getitem__(self, i):\n",
    "        id_=self.ids[i]\n",
    "        anno=ET.parse(os.path.join(self.data_dir, self.split, 'boxes_data', id_+'.xml'))\n",
    "        bbox=list()\n",
    "        label=list()\n",
    "        difficult=list()\n",
    "        for obj in anno.findall('object'):\n",
    "            if not self.use_difficult and int(obj.find('difficult').text) == 1:\n",
    "                continue\n",
    "            difficult.append(int(obj.find('difficult').text))\n",
    "            bndbox_anno=obj.find('bndbox')\n",
    "            bbox.append([int(bndbox_anno.find(tag).text) for tag in ('ymin', 'xmin', 'ymax', 'xmax')])\n",
    "            name=obj.find('name').text.lower().strip()\n",
    "            label.append(VOC_BBOX_LABEL_NAMES.index(name))\n",
    "        bbox=np.stack(bbox).astype(np.float32)\n",
    "        label=np.stack(label).astype(np.int32)\n",
    "        difficult = np.array(difficult, dtype=np.bool).astype(np.uint8)  # PyTorch don't support np.bool\n",
    "        \n",
    "        #load a image\n",
    "        img_file = os.path.join(self.data_dir,self.split,'image_data', id_+'.JPG')\n",
    "        img=read_image(img_file, color=True)\n",
    "        \n",
    "        return img, bbox, label, difficult\n",
    "    \n",
    "VOC_BBOX_LABEL_NAMES=('ong_noi', 'tru_su', 'khoa_neo')"
   ]
  }
 ],
 "metadata": {
  "kernelspec": {
   "display_name": "Python 3",
   "language": "python",
   "name": "python3"
  },
  "language_info": {
   "codemirror_mode": {
    "name": "ipython",
    "version": 3
   },
   "file_extension": ".py",
   "mimetype": "text/x-python",
   "name": "python",
   "nbconvert_exporter": "python",
   "pygments_lexer": "ipython3",
   "version": "3.7.1"
  }
 },
 "nbformat": 4,
 "nbformat_minor": 5
}
